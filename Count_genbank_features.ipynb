{
 "cells": [
  {
   "cell_type": "markdown",
   "id": "corrected-karaoke",
   "metadata": {},
   "source": [
    "## Count features in a single GenBank file using Python"
   ]
  },
  {
   "cell_type": "markdown",
   "id": "committed-bradley",
   "metadata": {},
   "source": [
    "- Libraries\n",
    "  - Biopython   (*pip install biopython --user*)\n",
    "  - Pandas      (*pip install pandas --user*)\n",
    "- A publicly available data will be used"
   ]
  },
  {
   "cell_type": "code",
   "execution_count": 16,
   "id": "understanding-program",
   "metadata": {},
   "outputs": [],
   "source": [
    "from Bio import SeqIO\n",
    "import pandas as pd\n",
    "from collections import Counter"
   ]
  },
  {
   "cell_type": "code",
   "execution_count": 17,
   "id": "reserved-affairs",
   "metadata": {},
   "outputs": [],
   "source": [
    "file_path='/home/kobina/Desktop/M48.gb'"
   ]
  },
  {
   "cell_type": "code",
   "execution_count": 18,
   "id": "secret-activity",
   "metadata": {},
   "outputs": [],
   "source": [
    "genbank_object=SeqIO.read(file_path,'gb')"
   ]
  },
  {
   "cell_type": "code",
   "execution_count": 19,
   "id": "italic-dance",
   "metadata": {},
   "outputs": [],
   "source": [
    "all_feature_types=[feature.type for feature in genbank_object.features]"
   ]
  },
  {
   "cell_type": "code",
   "execution_count": 20,
   "id": "generous-tender",
   "metadata": {},
   "outputs": [
    {
     "data": {
      "text/plain": [
       "6513"
      ]
     },
     "execution_count": 20,
     "metadata": {},
     "output_type": "execute_result"
    }
   ],
   "source": [
    "len(all_feature_types)"
   ]
  },
  {
   "cell_type": "code",
   "execution_count": 23,
   "id": "sealed-guitar",
   "metadata": {},
   "outputs": [
    {
     "name": "stdout",
     "output_type": "stream",
     "text": [
      "{'ncRNA', 'regulatory', 'rRNA', 'tmRNA', 'source', 'tRNA', 'gene', 'CDS'}\n"
     ]
    }
   ],
   "source": [
    "feature_types=set(all_feature_types)\n",
    "print(feature_types)"
   ]
  },
  {
   "cell_type": "code",
   "execution_count": 24,
   "id": "prescribed-creation",
   "metadata": {},
   "outputs": [],
   "source": [
    "feature_counts=Counter(all_feature_types)"
   ]
  },
  {
   "cell_type": "code",
   "execution_count": 26,
   "id": "fundamental-rider",
   "metadata": {},
   "outputs": [
    {
     "data": {
      "text/plain": [
       "dict_keys(['source', 'gene', 'CDS', 'regulatory', 'tRNA', 'ncRNA', 'rRNA', 'tmRNA'])"
      ]
     },
     "execution_count": 26,
     "metadata": {},
     "output_type": "execute_result"
    }
   ],
   "source": [
    "feature_counts.keys()"
   ]
  },
  {
   "cell_type": "code",
   "execution_count": 27,
   "id": "offensive-organization",
   "metadata": {},
   "outputs": [
    {
     "data": {
      "text/plain": [
       "3251"
      ]
     },
     "execution_count": 27,
     "metadata": {},
     "output_type": "execute_result"
    }
   ],
   "source": [
    "feature_counts['gene']"
   ]
  },
  {
   "cell_type": "code",
   "execution_count": 28,
   "id": "biological-moment",
   "metadata": {},
   "outputs": [
    {
     "name": "stdout",
     "output_type": "stream",
     "text": [
      "source 1\n",
      "gene 3251\n",
      "CDS 3171\n",
      "regulatory 10\n",
      "tRNA 60\n",
      "ncRNA 3\n",
      "rRNA 16\n",
      "tmRNA 1\n"
     ]
    }
   ],
   "source": [
    "for key,value in feature_counts.items():\n",
    "    print(key,value)"
   ]
  },
  {
   "cell_type": "code",
   "execution_count": 31,
   "id": "representative-reputation",
   "metadata": {},
   "outputs": [],
   "source": [
    "del feature_counts['source']\n",
    "del feature_counts['regulatory']"
   ]
  },
  {
   "cell_type": "code",
   "execution_count": 32,
   "id": "higher-sauce",
   "metadata": {},
   "outputs": [
    {
     "data": {
      "text/plain": [
       "dict_keys(['gene', 'CDS', 'tRNA', 'ncRNA', 'rRNA', 'tmRNA'])"
      ]
     },
     "execution_count": 32,
     "metadata": {},
     "output_type": "execute_result"
    }
   ],
   "source": [
    "feature_counts.keys()"
   ]
  },
  {
   "cell_type": "code",
   "execution_count": 33,
   "id": "coupled-daniel",
   "metadata": {},
   "outputs": [],
   "source": [
    "dataframe=pd.DataFrame(feature_counts.items(),columns=['Feature','Count'])"
   ]
  },
  {
   "cell_type": "code",
   "execution_count": 34,
   "id": "black-forth",
   "metadata": {},
   "outputs": [
    {
     "data": {
      "text/plain": [
       "(6, 2)"
      ]
     },
     "execution_count": 34,
     "metadata": {},
     "output_type": "execute_result"
    }
   ],
   "source": [
    "dataframe.shape"
   ]
  },
  {
   "cell_type": "code",
   "execution_count": 35,
   "id": "artistic-french",
   "metadata": {},
   "outputs": [
    {
     "data": {
      "text/html": [
       "<div>\n",
       "<style scoped>\n",
       "    .dataframe tbody tr th:only-of-type {\n",
       "        vertical-align: middle;\n",
       "    }\n",
       "\n",
       "    .dataframe tbody tr th {\n",
       "        vertical-align: top;\n",
       "    }\n",
       "\n",
       "    .dataframe thead th {\n",
       "        text-align: right;\n",
       "    }\n",
       "</style>\n",
       "<table border=\"1\" class=\"dataframe\">\n",
       "  <thead>\n",
       "    <tr style=\"text-align: right;\">\n",
       "      <th></th>\n",
       "      <th>Feature</th>\n",
       "      <th>Count</th>\n",
       "    </tr>\n",
       "  </thead>\n",
       "  <tbody>\n",
       "    <tr>\n",
       "      <th>0</th>\n",
       "      <td>gene</td>\n",
       "      <td>3251</td>\n",
       "    </tr>\n",
       "    <tr>\n",
       "      <th>1</th>\n",
       "      <td>CDS</td>\n",
       "      <td>3171</td>\n",
       "    </tr>\n",
       "    <tr>\n",
       "      <th>2</th>\n",
       "      <td>tRNA</td>\n",
       "      <td>60</td>\n",
       "    </tr>\n",
       "    <tr>\n",
       "      <th>3</th>\n",
       "      <td>ncRNA</td>\n",
       "      <td>3</td>\n",
       "    </tr>\n",
       "    <tr>\n",
       "      <th>4</th>\n",
       "      <td>rRNA</td>\n",
       "      <td>16</td>\n",
       "    </tr>\n",
       "    <tr>\n",
       "      <th>5</th>\n",
       "      <td>tmRNA</td>\n",
       "      <td>1</td>\n",
       "    </tr>\n",
       "  </tbody>\n",
       "</table>\n",
       "</div>"
      ],
      "text/plain": [
       "  Feature  Count\n",
       "0    gene   3251\n",
       "1     CDS   3171\n",
       "2    tRNA     60\n",
       "3   ncRNA      3\n",
       "4    rRNA     16\n",
       "5   tmRNA      1"
      ]
     },
     "execution_count": 35,
     "metadata": {},
     "output_type": "execute_result"
    }
   ],
   "source": [
    "dataframe"
   ]
  },
  {
   "cell_type": "code",
   "execution_count": 36,
   "id": "unsigned-extreme",
   "metadata": {},
   "outputs": [],
   "source": [
    "outputfile='/home/kobina/Desktop/feature_count.csv'"
   ]
  },
  {
   "cell_type": "code",
   "execution_count": 37,
   "id": "subsequent-silly",
   "metadata": {},
   "outputs": [],
   "source": [
    "dataframe.to_csv(outputfile,index=False)"
   ]
  },
  {
   "cell_type": "markdown",
   "id": "grave-addiction",
   "metadata": {},
   "source": [
    "## Count features in multiple genbank files (Part1)\n"
   ]
  },
  {
   "cell_type": "markdown",
   "id": "described-capacity",
   "metadata": {},
   "source": [
    "**Activities**\n",
    "- Download genbank files\n",
    "- Put all files in the same folder/directory\n",
    "- Count features using biopython\n",
    "- Save the result for individual files to their respective output files"
   ]
  },
  {
   "cell_type": "markdown",
   "id": "compound-examination",
   "metadata": {},
   "source": [
    "**Libraries**\n",
    "  - Biopython   (*pip install biopython --user*)\n",
    "  - Pandas      (*pip install pandas --user*)"
   ]
  },
  {
   "cell_type": "code",
   "execution_count": 1,
   "id": "auburn-consultation",
   "metadata": {},
   "outputs": [],
   "source": []
  },
  {
   "cell_type": "code",
   "execution_count": 5,
   "id": "coupled-popularity",
   "metadata": {},
   "outputs": [],
   "source": [
    "import glob\n",
    "from Bio import SeqIO\n",
    "from collections import Counter\n",
    "import pandas as pd\n",
    "import os"
   ]
  },
  {
   "cell_type": "code",
   "execution_count": 6,
   "id": "reasonable-lunch",
   "metadata": {},
   "outputs": [],
   "source": [
    "file_directory=\"/home/kobina/Desktop/sequences\""
   ]
  },
  {
   "cell_type": "code",
   "execution_count": 9,
   "id": "hollow-command",
   "metadata": {},
   "outputs": [],
   "source": [
    "gfiles=glob.glob(\"%s/*.gb\"%file_directory)"
   ]
  },
  {
   "cell_type": "code",
   "execution_count": 10,
   "id": "documented-amendment",
   "metadata": {},
   "outputs": [
    {
     "data": {
      "text/plain": [
       "['/home/kobina/Desktop/sequences/V521.gb',\n",
       " '/home/kobina/Desktop/sequences/AR465.gb',\n",
       " '/home/kobina/Desktop/sequences/R50.gb',\n",
       " '/home/kobina/Desktop/sequences/P10.gb',\n",
       " '/home/kobina/Desktop/sequences/M48.gb']"
      ]
     },
     "execution_count": 10,
     "metadata": {},
     "output_type": "execute_result"
    }
   ],
   "source": [
    "gfiles"
   ]
  },
  {
   "cell_type": "code",
   "execution_count": 11,
   "id": "circular-nursery",
   "metadata": {},
   "outputs": [
    {
     "name": "stdout",
     "output_type": "stream",
     "text": [
      "5\n"
     ]
    }
   ],
   "source": [
    "print(len(gfiles))"
   ]
  },
  {
   "cell_type": "code",
   "execution_count": 12,
   "id": "closing-cooling",
   "metadata": {},
   "outputs": [
    {
     "data": {
      "text/plain": [
       "'/home/kobina/Desktop/sequences/V521.gb'"
      ]
     },
     "execution_count": 12,
     "metadata": {},
     "output_type": "execute_result"
    }
   ],
   "source": [
    "gfiles[0]"
   ]
  },
  {
   "cell_type": "code",
   "execution_count": null,
   "id": "explicit-blank",
   "metadata": {},
   "outputs": [],
   "source": []
  },
  {
   "cell_type": "code",
   "execution_count": 19,
   "id": "structured-spiritual",
   "metadata": {},
   "outputs": [],
   "source": [
    "def count_features(gfile):\n",
    "    genbank_object=SeqIO.read(gfile,\"gb\")\n",
    "    features=genbank_object.features\n",
    "    feature_types=[feature.type for feature in features]\n",
    "    feature_count=Counter(feature_types)\n",
    "    print('features have been counted')\n",
    "    \n",
    "    dataframe=pd.DataFrame(feature_count.items(),columns=['Feature','Count'])\n",
    "    \n",
    "    directory,filename=os.path.split(gfile)\n",
    "    filename=filename.strip('.gb')\n",
    "    \n",
    "    basedir='/home/kobina/Desktop'\n",
    "    \n",
    "    outputfile='%s/%s.csv'%(basedir,filename)\n",
    "    \n",
    "    dataframe.to_csv(outputfile,index=False)\n",
    "    \n",
    "    print('Count data has been saved')"
   ]
  },
  {
   "cell_type": "code",
   "execution_count": 20,
   "id": "thorough-invite",
   "metadata": {
    "scrolled": true
   },
   "outputs": [
    {
     "name": "stdout",
     "output_type": "stream",
     "text": [
      "features have been counted\n",
      "Count data has been saved\n",
      "features have been counted\n",
      "Count data has been saved\n",
      "features have been counted\n",
      "Count data has been saved\n",
      "features have been counted\n",
      "Count data has been saved\n",
      "features have been counted\n",
      "Count data has been saved\n"
     ]
    }
   ],
   "source": [
    "for gfile in gfiles:\n",
    "    count_features(gfile)"
   ]
  },
  {
   "cell_type": "code",
   "execution_count": null,
   "id": "useful-delhi",
   "metadata": {},
   "outputs": [],
   "source": []
  },
  {
   "cell_type": "markdown",
   "id": "viral-horse",
   "metadata": {},
   "source": [
    "### Count features in multiple genbank files (Part 2)"
   ]
  },
  {
   "cell_type": "markdown",
   "id": "exciting-smith",
   "metadata": {},
   "source": [
    " **Activities**\n",
    "- Download genbank files\n",
    "- Put all files in the same folder/directory\n",
    "- Count features using biopython\n",
    "- Combine all results into a single dataframe and save to an single output file"
   ]
  },
  {
   "cell_type": "markdown",
   "id": "talented-error",
   "metadata": {},
   "source": [
    "**Libraries**\n",
    "- Biopython   (*pip install biopython --user*)\n",
    "- Pandas      (*pip install pandas --user*)"
   ]
  },
  {
   "cell_type": "code",
   "execution_count": 23,
   "id": "assured-algeria",
   "metadata": {},
   "outputs": [],
   "source": [
    "import glob\n",
    "from Bio import SeqIO\n",
    "from collections import Counter\n",
    "import pandas as pd\n",
    "import os"
   ]
  },
  {
   "cell_type": "code",
   "execution_count": null,
   "id": "faced-pizza",
   "metadata": {},
   "outputs": [],
   "source": []
  },
  {
   "cell_type": "code",
   "execution_count": 24,
   "id": "stretch-repository",
   "metadata": {},
   "outputs": [],
   "source": [
    "file_directory=\"/home/kobina/Desktop/sequences\""
   ]
  },
  {
   "cell_type": "code",
   "execution_count": 27,
   "id": "useful-insurance",
   "metadata": {},
   "outputs": [],
   "source": [
    "gfiles=glob.glob(\"%s/*.gb\"%file_directory)"
   ]
  },
  {
   "cell_type": "code",
   "execution_count": 28,
   "id": "southern-exhaust",
   "metadata": {},
   "outputs": [
    {
     "data": {
      "text/plain": [
       "['/home/kobina/Desktop/sequences/V521.gb',\n",
       " '/home/kobina/Desktop/sequences/AR465.gb',\n",
       " '/home/kobina/Desktop/sequences/R50.gb',\n",
       " '/home/kobina/Desktop/sequences/P10.gb',\n",
       " '/home/kobina/Desktop/sequences/M48.gb']"
      ]
     },
     "execution_count": 28,
     "metadata": {},
     "output_type": "execute_result"
    }
   ],
   "source": [
    "gfiles"
   ]
  },
  {
   "cell_type": "code",
   "execution_count": 29,
   "id": "chinese-alexandria",
   "metadata": {},
   "outputs": [
    {
     "name": "stdout",
     "output_type": "stream",
     "text": [
      "5\n"
     ]
    }
   ],
   "source": [
    "print(len(gfiles))"
   ]
  },
  {
   "cell_type": "code",
   "execution_count": 30,
   "id": "permanent-president",
   "metadata": {},
   "outputs": [
    {
     "data": {
      "text/plain": [
       "'/home/kobina/Desktop/sequences/V521.gb'"
      ]
     },
     "execution_count": 30,
     "metadata": {},
     "output_type": "execute_result"
    }
   ],
   "source": [
    "gfiles[0]"
   ]
  },
  {
   "cell_type": "code",
   "execution_count": null,
   "id": "turned-tuition",
   "metadata": {},
   "outputs": [],
   "source": []
  },
  {
   "cell_type": "code",
   "execution_count": 31,
   "id": "introductory-english",
   "metadata": {},
   "outputs": [],
   "source": [
    "def read_file(gfile):\n",
    "    genbank_object=SeqIO.read(gfile,'gb')\n",
    "    features=genbank_object.features\n",
    "    feature_types=[feature.type for feature in features]\n",
    "    return feature_types"
   ]
  },
  {
   "cell_type": "code",
   "execution_count": 50,
   "id": "after-elimination",
   "metadata": {},
   "outputs": [],
   "source": [
    "def count_features(feature_types):\n",
    "    feature_count=Counter(feature_types)\n",
    "    print('features have been counted')\n",
    "    return feature_count"
   ]
  },
  {
   "cell_type": "code",
   "execution_count": null,
   "id": "actual-income",
   "metadata": {},
   "outputs": [],
   "source": []
  },
  {
   "cell_type": "code",
   "execution_count": 32,
   "id": "classified-grove",
   "metadata": {},
   "outputs": [],
   "source": [
    "def scan_all_features(files):\n",
    "    allfeatures=[]\n",
    "    for gfile in gfiles:\n",
    "        feature_types=read_file(gfile)\n",
    "        allfeatures.extend(feature_types)\n",
    "\n",
    "    allfeatures=set(allfeatures)\n",
    "    allfeatures=list(allfeatures)\n",
    "    print('all features have been identified')\n",
    "    return allfeatures"
   ]
  },
  {
   "cell_type": "code",
   "execution_count": null,
   "id": "registered-muscle",
   "metadata": {},
   "outputs": [],
   "source": []
  },
  {
   "cell_type": "code",
   "execution_count": 35,
   "id": "affiliated-taylor",
   "metadata": {},
   "outputs": [
    {
     "name": "stdout",
     "output_type": "stream",
     "text": [
      "all features have been identified\n"
     ]
    }
   ],
   "source": [
    "allfeatures=scan_all_features(gfiles)"
   ]
  },
  {
   "cell_type": "code",
   "execution_count": 36,
   "id": "final-airport",
   "metadata": {},
   "outputs": [
    {
     "name": "stdout",
     "output_type": "stream",
     "text": [
      "['source', 'CDS', 'gene', 'ncRNA', 'tmRNA', 'regulatory', 'tRNA', 'misc_binding', 'rRNA']\n"
     ]
    }
   ],
   "source": [
    "print(allfeatures)"
   ]
  },
  {
   "cell_type": "code",
   "execution_count": 61,
   "id": "earlier-cache",
   "metadata": {},
   "outputs": [
    {
     "data": {
      "text/plain": [
       "['source',\n",
       " 'CDS',\n",
       " 'gene',\n",
       " 'ncRNA',\n",
       " 'tmRNA',\n",
       " 'regulatory',\n",
       " 'tRNA',\n",
       " 'misc_binding',\n",
       " 'rRNA']"
      ]
     },
     "execution_count": 61,
     "metadata": {},
     "output_type": "execute_result"
    }
   ],
   "source": [
    "allfeatures"
   ]
  },
  {
   "cell_type": "code",
   "execution_count": null,
   "id": "numerous-development",
   "metadata": {},
   "outputs": [],
   "source": []
  },
  {
   "cell_type": "code",
   "execution_count": 56,
   "id": "bearing-chuck",
   "metadata": {},
   "outputs": [],
   "source": [
    "allfeature_count=[]"
   ]
  },
  {
   "cell_type": "code",
   "execution_count": null,
   "id": "corporate-flashing",
   "metadata": {},
   "outputs": [],
   "source": []
  },
  {
   "cell_type": "code",
   "execution_count": 57,
   "id": "communist-flexibility",
   "metadata": {},
   "outputs": [
    {
     "name": "stdout",
     "output_type": "stream",
     "text": [
      "features have been counted\n",
      "features have been counted\n",
      "features have been counted\n",
      "features have been counted\n",
      "features have been counted\n"
     ]
    }
   ],
   "source": [
    "for gfile in gfiles:\n",
    "    directory,filename=os.path.split(gfile)\n",
    "    filename=filename.strip('.gb')\n",
    "    feature_types=read_file(gfile)\n",
    "    feature_count=count_features(feature_types)\n",
    "    temp_count=[]\n",
    "\n",
    "    temp_count.append(filename)\n",
    "   \n",
    "    for feature in allfeatures:\n",
    "        if feature in feature_count.keys():\n",
    "            temp_count.append(feature_count[feature])\n",
    "        else:\n",
    "            temp_count.append(0)\n",
    "    allfeature_count.append(temp_count)"
   ]
  },
  {
   "cell_type": "code",
   "execution_count": 58,
   "id": "dress-mandate",
   "metadata": {},
   "outputs": [
    {
     "data": {
      "text/plain": [
       "5"
      ]
     },
     "execution_count": 58,
     "metadata": {},
     "output_type": "execute_result"
    }
   ],
   "source": [
    "len(allfeature_count)\n"
   ]
  },
  {
   "cell_type": "code",
   "execution_count": 59,
   "id": "informal-liabilities",
   "metadata": {},
   "outputs": [
    {
     "data": {
      "text/plain": [
       "['V521', 1, 3114, 3194, 3, 1, 0, 60, 10, 16]"
      ]
     },
     "execution_count": 59,
     "metadata": {},
     "output_type": "execute_result"
    }
   ],
   "source": [
    "allfeature_count[0]"
   ]
  },
  {
   "cell_type": "code",
   "execution_count": 62,
   "id": "wrong-myanmar",
   "metadata": {},
   "outputs": [
    {
     "name": "stdout",
     "output_type": "stream",
     "text": [
      "['source', 'CDS', 'gene', 'ncRNA', 'tmRNA', 'regulatory', 'tRNA', 'misc_binding', 'rRNA']\n"
     ]
    }
   ],
   "source": [
    "print(allfeatures)"
   ]
  },
  {
   "cell_type": "code",
   "execution_count": 63,
   "id": "located-slide",
   "metadata": {},
   "outputs": [
    {
     "data": {
      "text/plain": [
       "[['V521', 1, 3114, 3194, 3, 1, 0, 60, 10, 16],\n",
       " ['AR465', 1, 2740, 2819, 0, 0, 0, 60, 0, 19],\n",
       " ['R50', 1, 2935, 3008, 3, 1, 10, 59, 0, 10],\n",
       " ['P10', 1, 3179, 3250, 3, 1, 10, 59, 0, 8],\n",
       " ['M48', 1, 3171, 3251, 3, 1, 10, 60, 0, 16]]"
      ]
     },
     "execution_count": 63,
     "metadata": {},
     "output_type": "execute_result"
    }
   ],
   "source": [
    "allfeature_count"
   ]
  },
  {
   "cell_type": "code",
   "execution_count": 64,
   "id": "crude-depth",
   "metadata": {},
   "outputs": [],
   "source": [
    "columns=[]\n",
    "columns.append('File')\n",
    "columns.extend(allfeatures)"
   ]
  },
  {
   "cell_type": "code",
   "execution_count": 65,
   "id": "square-bailey",
   "metadata": {},
   "outputs": [
    {
     "data": {
      "text/plain": [
       "['File',\n",
       " 'source',\n",
       " 'CDS',\n",
       " 'gene',\n",
       " 'ncRNA',\n",
       " 'tmRNA',\n",
       " 'regulatory',\n",
       " 'tRNA',\n",
       " 'misc_binding',\n",
       " 'rRNA']"
      ]
     },
     "execution_count": 65,
     "metadata": {},
     "output_type": "execute_result"
    }
   ],
   "source": [
    "columns"
   ]
  },
  {
   "cell_type": "code",
   "execution_count": 66,
   "id": "sharing-camping",
   "metadata": {},
   "outputs": [],
   "source": [
    "dataframe=pd.DataFrame(allfeature_count,columns=columns)"
   ]
  },
  {
   "cell_type": "code",
   "execution_count": 67,
   "id": "racial-confusion",
   "metadata": {},
   "outputs": [
    {
     "name": "stdout",
     "output_type": "stream",
     "text": [
      "    File  source   CDS  gene  ncRNA  tmRNA  regulatory  tRNA  misc_binding  \\\n",
      "0   V521       1  3114  3194      3      1           0    60            10   \n",
      "1  AR465       1  2740  2819      0      0           0    60             0   \n",
      "2    R50       1  2935  3008      3      1          10    59             0   \n",
      "3    P10       1  3179  3250      3      1          10    59             0   \n",
      "4    M48       1  3171  3251      3      1          10    60             0   \n",
      "\n",
      "   rRNA  \n",
      "0    16  \n",
      "1    19  \n",
      "2    10  \n",
      "3     8  \n",
      "4    16  \n"
     ]
    }
   ],
   "source": [
    "print(dataframe)"
   ]
  },
  {
   "cell_type": "code",
   "execution_count": 68,
   "id": "sealed-prior",
   "metadata": {},
   "outputs": [],
   "source": [
    "del dataframe['regulatory']"
   ]
  },
  {
   "cell_type": "code",
   "execution_count": 69,
   "id": "challenging-merchant",
   "metadata": {},
   "outputs": [],
   "source": [
    "del dataframe['misc_binding']"
   ]
  },
  {
   "cell_type": "code",
   "execution_count": 70,
   "id": "approximate-polls",
   "metadata": {},
   "outputs": [
    {
     "name": "stdout",
     "output_type": "stream",
     "text": [
      "    File  source   CDS  gene  ncRNA  tmRNA  tRNA  rRNA\n",
      "0   V521       1  3114  3194      3      1    60    16\n",
      "1  AR465       1  2740  2819      0      0    60    19\n",
      "2    R50       1  2935  3008      3      1    59    10\n",
      "3    P10       1  3179  3250      3      1    59     8\n",
      "4    M48       1  3171  3251      3      1    60    16\n"
     ]
    }
   ],
   "source": [
    "print(dataframe)"
   ]
  },
  {
   "cell_type": "code",
   "execution_count": 71,
   "id": "eastern-transcription",
   "metadata": {},
   "outputs": [],
   "source": [
    "dataframe.set_index('File',inplace=True)"
   ]
  },
  {
   "cell_type": "code",
   "execution_count": 72,
   "id": "revised-rates",
   "metadata": {},
   "outputs": [
    {
     "data": {
      "text/html": [
       "<div>\n",
       "<style scoped>\n",
       "    .dataframe tbody tr th:only-of-type {\n",
       "        vertical-align: middle;\n",
       "    }\n",
       "\n",
       "    .dataframe tbody tr th {\n",
       "        vertical-align: top;\n",
       "    }\n",
       "\n",
       "    .dataframe thead th {\n",
       "        text-align: right;\n",
       "    }\n",
       "</style>\n",
       "<table border=\"1\" class=\"dataframe\">\n",
       "  <thead>\n",
       "    <tr style=\"text-align: right;\">\n",
       "      <th></th>\n",
       "      <th>source</th>\n",
       "      <th>CDS</th>\n",
       "      <th>gene</th>\n",
       "      <th>ncRNA</th>\n",
       "      <th>tmRNA</th>\n",
       "      <th>tRNA</th>\n",
       "      <th>rRNA</th>\n",
       "    </tr>\n",
       "    <tr>\n",
       "      <th>File</th>\n",
       "      <th></th>\n",
       "      <th></th>\n",
       "      <th></th>\n",
       "      <th></th>\n",
       "      <th></th>\n",
       "      <th></th>\n",
       "      <th></th>\n",
       "    </tr>\n",
       "  </thead>\n",
       "  <tbody>\n",
       "    <tr>\n",
       "      <th>V521</th>\n",
       "      <td>1</td>\n",
       "      <td>3114</td>\n",
       "      <td>3194</td>\n",
       "      <td>3</td>\n",
       "      <td>1</td>\n",
       "      <td>60</td>\n",
       "      <td>16</td>\n",
       "    </tr>\n",
       "    <tr>\n",
       "      <th>AR465</th>\n",
       "      <td>1</td>\n",
       "      <td>2740</td>\n",
       "      <td>2819</td>\n",
       "      <td>0</td>\n",
       "      <td>0</td>\n",
       "      <td>60</td>\n",
       "      <td>19</td>\n",
       "    </tr>\n",
       "    <tr>\n",
       "      <th>R50</th>\n",
       "      <td>1</td>\n",
       "      <td>2935</td>\n",
       "      <td>3008</td>\n",
       "      <td>3</td>\n",
       "      <td>1</td>\n",
       "      <td>59</td>\n",
       "      <td>10</td>\n",
       "    </tr>\n",
       "    <tr>\n",
       "      <th>P10</th>\n",
       "      <td>1</td>\n",
       "      <td>3179</td>\n",
       "      <td>3250</td>\n",
       "      <td>3</td>\n",
       "      <td>1</td>\n",
       "      <td>59</td>\n",
       "      <td>8</td>\n",
       "    </tr>\n",
       "    <tr>\n",
       "      <th>M48</th>\n",
       "      <td>1</td>\n",
       "      <td>3171</td>\n",
       "      <td>3251</td>\n",
       "      <td>3</td>\n",
       "      <td>1</td>\n",
       "      <td>60</td>\n",
       "      <td>16</td>\n",
       "    </tr>\n",
       "  </tbody>\n",
       "</table>\n",
       "</div>"
      ],
      "text/plain": [
       "       source   CDS  gene  ncRNA  tmRNA  tRNA  rRNA\n",
       "File                                               \n",
       "V521        1  3114  3194      3      1    60    16\n",
       "AR465       1  2740  2819      0      0    60    19\n",
       "R50         1  2935  3008      3      1    59    10\n",
       "P10         1  3179  3250      3      1    59     8\n",
       "M48         1  3171  3251      3      1    60    16"
      ]
     },
     "execution_count": 72,
     "metadata": {},
     "output_type": "execute_result"
    }
   ],
   "source": [
    "dataframe"
   ]
  },
  {
   "cell_type": "code",
   "execution_count": 73,
   "id": "juvenile-checklist",
   "metadata": {},
   "outputs": [
    {
     "data": {
      "text/plain": [
       "source       1\n",
       "CDS       3114\n",
       "gene      3194\n",
       "ncRNA        3\n",
       "tmRNA        1\n",
       "tRNA        60\n",
       "rRNA        16\n",
       "Name: V521, dtype: int64"
      ]
     },
     "execution_count": 73,
     "metadata": {},
     "output_type": "execute_result"
    }
   ],
   "source": [
    "dataframe.loc['V521',:]"
   ]
  },
  {
   "cell_type": "code",
   "execution_count": 74,
   "id": "fallen-ecology",
   "metadata": {},
   "outputs": [
    {
     "data": {
      "text/plain": [
       "3114"
      ]
     },
     "execution_count": 74,
     "metadata": {},
     "output_type": "execute_result"
    }
   ],
   "source": [
    "dataframe.loc['V521','CDS']"
   ]
  },
  {
   "cell_type": "code",
   "execution_count": 75,
   "id": "russian-relative",
   "metadata": {},
   "outputs": [],
   "source": [
    "outputfile='/home/kobina/Desktop/featurecount.csv'"
   ]
  },
  {
   "cell_type": "code",
   "execution_count": 76,
   "id": "burning-leonard",
   "metadata": {},
   "outputs": [],
   "source": [
    "dataframe.to_csv(outputfile,index=True)"
   ]
  },
  {
   "cell_type": "code",
   "execution_count": null,
   "id": "younger-payment",
   "metadata": {},
   "outputs": [],
   "source": []
  }
 ],
 "metadata": {
  "kernelspec": {
   "display_name": "Python 3",
   "language": "python",
   "name": "python3"
  },
  "language_info": {
   "codemirror_mode": {
    "name": "ipython",
    "version": 3
   },
   "file_extension": ".py",
   "mimetype": "text/x-python",
   "name": "python",
   "nbconvert_exporter": "python",
   "pygments_lexer": "ipython3",
   "version": "3.6.9"
  }
 },
 "nbformat": 4,
 "nbformat_minor": 5
}
