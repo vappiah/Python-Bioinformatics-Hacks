{
 "cells": [
  {
   "cell_type": "markdown",
   "id": "corrected-karaoke",
   "metadata": {},
   "source": [
    "## Calculate GC Content of a sequence in a single fasta file"
   ]
  },
  {
   "cell_type": "markdown",
   "id": "south-circle",
   "metadata": {},
   "source": [
    "\n",
    "\n",
    "\n",
    "\n"
   ]
  },
  {
   "cell_type": "markdown",
   "id": "worst-services",
   "metadata": {},
   "source": [
    "**Activities**\n",
    "- Download fasta file from NCBI Database\n",
    "- Read fasta file\n",
    "- Calculate GC content\n",
    "\n",
    "**Python Library**\n",
    "- Biopython"
   ]
  },
  {
   "cell_type": "code",
   "execution_count": null,
   "id": "injured-affiliation",
   "metadata": {},
   "outputs": [],
   "source": []
  },
  {
   "cell_type": "markdown",
   "id": "green-surveillance",
   "metadata": {},
   "source": [
    "### Calculate GC Content on a Single Sequence Fasta File"
   ]
  },
  {
   "cell_type": "code",
   "execution_count": 7,
   "id": "supported-dating",
   "metadata": {},
   "outputs": [],
   "source": [
    "filename=\"/home/kobina/Desktop/sequence.fasta\""
   ]
  },
  {
   "cell_type": "code",
   "execution_count": 8,
   "id": "turned-outreach",
   "metadata": {},
   "outputs": [],
   "source": [
    "from Bio import SeqIO\n",
    "from Bio.SeqUtils import GC"
   ]
  },
  {
   "cell_type": "code",
   "execution_count": 9,
   "id": "stylish-brooklyn",
   "metadata": {},
   "outputs": [],
   "source": [
    "seq_object=SeqIO.read(filename,\"fasta\")\n",
    "sequence=seq_object.seq\n"
   ]
  },
  {
   "cell_type": "code",
   "execution_count": 10,
   "id": "imposed-rogers",
   "metadata": {},
   "outputs": [
    {
     "data": {
      "text/plain": [
       "5631606"
      ]
     },
     "execution_count": 10,
     "metadata": {},
     "output_type": "execute_result"
    }
   ],
   "source": [
    "len(sequence)"
   ]
  },
  {
   "cell_type": "code",
   "execution_count": 11,
   "id": "commercial-relationship",
   "metadata": {},
   "outputs": [
    {
     "name": "stdout",
     "output_type": "stream",
     "text": [
      "TTGACCAATGACCCCGGTTC\n"
     ]
    }
   ],
   "source": [
    "print(sequence[0:20])"
   ]
  },
  {
   "cell_type": "code",
   "execution_count": 12,
   "id": "internal-liberty",
   "metadata": {},
   "outputs": [],
   "source": [
    "gc_content=GC(sequence)"
   ]
  },
  {
   "cell_type": "code",
   "execution_count": 13,
   "id": "quality-awareness",
   "metadata": {},
   "outputs": [
    {
     "name": "stdout",
     "output_type": "stream",
     "text": [
      "65.47269109380166\n"
     ]
    }
   ],
   "source": [
    "print(gc_content)"
   ]
  },
  {
   "cell_type": "code",
   "execution_count": 14,
   "id": "controversial-marketplace",
   "metadata": {},
   "outputs": [
    {
     "data": {
      "text/plain": [
       "65.47"
      ]
     },
     "execution_count": 14,
     "metadata": {},
     "output_type": "execute_result"
    }
   ],
   "source": [
    "round(gc_content,2)"
   ]
  },
  {
   "cell_type": "code",
   "execution_count": 15,
   "id": "hollow-panama",
   "metadata": {},
   "outputs": [
    {
     "data": {
      "text/plain": [
       "57.142857142857146"
      ]
     },
     "execution_count": 15,
     "metadata": {},
     "output_type": "execute_result"
    }
   ],
   "source": [
    "sequence2=\"AGCCTAC\"\n",
    "GC(sequence2)"
   ]
  },
  {
   "cell_type": "code",
   "execution_count": null,
   "id": "prescribed-north",
   "metadata": {},
   "outputs": [],
   "source": []
  },
  {
   "cell_type": "markdown",
   "id": "acquired-interpretation",
   "metadata": {},
   "source": [
    "## GC content of sequences in multiple fasta files"
   ]
  },
  {
   "cell_type": "markdown",
   "id": "phantom-sixth",
   "metadata": {},
   "source": [
    "- Download multiple fasta files\n",
    "- Use loops to\n",
    "   - read files\n",
    "   - calculate GC content\n",
    "- Save result to a file"
   ]
  },
  {
   "cell_type": "markdown",
   "id": "opponent-dietary",
   "metadata": {},
   "source": [
    "- Required Libraries\n",
    "   -  Biopython\n",
    "   -  Pandas\n",
    "   "
   ]
  },
  {
   "cell_type": "code",
   "execution_count": 63,
   "id": "extreme-chrome",
   "metadata": {},
   "outputs": [],
   "source": [
    "from Bio import SeqIO\n",
    "from Bio.SeqUtils import GC\n",
    "import pandas as pd\n",
    "import os\n",
    "import glob"
   ]
  },
  {
   "cell_type": "code",
   "execution_count": null,
   "id": "wound-lewis",
   "metadata": {},
   "outputs": [],
   "source": []
  },
  {
   "cell_type": "code",
   "execution_count": 64,
   "id": "right-holiday",
   "metadata": {},
   "outputs": [],
   "source": [
    "file_directory='/home/kobina/Desktop/sequences'"
   ]
  },
  {
   "cell_type": "code",
   "execution_count": 65,
   "id": "detailed-triangle",
   "metadata": {},
   "outputs": [],
   "source": [
    "fasta_files=glob.glob('%s/*.fasta'%file_directory)"
   ]
  },
  {
   "cell_type": "code",
   "execution_count": 66,
   "id": "employed-anime",
   "metadata": {},
   "outputs": [
    {
     "data": {
      "text/plain": [
       "5"
      ]
     },
     "execution_count": 66,
     "metadata": {},
     "output_type": "execute_result"
    }
   ],
   "source": [
    "len(fasta_files)"
   ]
  },
  {
   "cell_type": "code",
   "execution_count": 67,
   "id": "independent-stanford",
   "metadata": {},
   "outputs": [
    {
     "data": {
      "text/plain": [
       "'/home/kobina/Desktop/sequences/AR465.fasta'"
      ]
     },
     "execution_count": 67,
     "metadata": {},
     "output_type": "execute_result"
    }
   ],
   "source": [
    "fasta_files[0]"
   ]
  },
  {
   "cell_type": "code",
   "execution_count": 68,
   "id": "traditional-dragon",
   "metadata": {},
   "outputs": [
    {
     "name": "stdout",
     "output_type": "stream",
     "text": [
      "['/home/kobina/Desktop/sequences/AR465.fasta', '/home/kobina/Desktop/sequences/R50.fasta', '/home/kobina/Desktop/sequences/M48.fasta', '/home/kobina/Desktop/sequences/P10.fasta', '/home/kobina/Desktop/sequences/V521.fasta']\n"
     ]
    }
   ],
   "source": [
    "print(fasta_files)"
   ]
  },
  {
   "cell_type": "code",
   "execution_count": null,
   "id": "intelligent-economy",
   "metadata": {},
   "outputs": [],
   "source": []
  },
  {
   "cell_type": "code",
   "execution_count": 69,
   "id": "treated-consensus",
   "metadata": {},
   "outputs": [],
   "source": [
    "def calculate_gc(fasta):\n",
    "    seq_obj=SeqIO.read(fasta,'fasta')\n",
    "    sequence=seq_obj.seq\n",
    "    \n",
    "    gc_content=GC(sequence)\n",
    "    gc_content=round(gc_content,2)\n",
    "    \n",
    "    filename=os.path.split(fasta)\n",
    "    filename=filename[1]\n",
    "    filename=filename.strip('.fasta')\n",
    "    \n",
    "    print(filename)\n",
    "    print(gc_content)\n",
    "    "
   ]
  },
  {
   "cell_type": "code",
   "execution_count": null,
   "id": "assumed-divorce",
   "metadata": {},
   "outputs": [],
   "source": []
  },
  {
   "cell_type": "code",
   "execution_count": 70,
   "id": "unlikely-mechanism",
   "metadata": {},
   "outputs": [
    {
     "name": "stdout",
     "output_type": "stream",
     "text": [
      "AR465\n",
      "32.92\n",
      "R50\n",
      "32.91\n",
      "M48\n",
      "32.81\n",
      "P10\n",
      "32.71\n",
      "V521\n",
      "32.81\n"
     ]
    }
   ],
   "source": [
    "for fasta in fasta_files:\n",
    "    calculate_gc(fasta)"
   ]
  },
  {
   "cell_type": "code",
   "execution_count": null,
   "id": "expired-package",
   "metadata": {},
   "outputs": [],
   "source": []
  },
  {
   "cell_type": "code",
   "execution_count": 71,
   "id": "flying-billy",
   "metadata": {},
   "outputs": [],
   "source": [
    "filenames=[]\n",
    "gc_contents=[]"
   ]
  },
  {
   "cell_type": "code",
   "execution_count": 72,
   "id": "agricultural-communications",
   "metadata": {},
   "outputs": [],
   "source": [
    "def calculate_gc(fasta):\n",
    "    seq_obj=SeqIO.read(fasta,'fasta')\n",
    "    sequence=seq_obj.seq\n",
    "    \n",
    "    gc_content=GC(sequence)\n",
    "    gc_content=round(gc_content,2)\n",
    "    \n",
    "    filename=os.path.split(fasta)\n",
    "    filename=filename[1]\n",
    "    filename=filename.strip('.fasta')\n",
    "    \n",
    "    print('GC content has been calculated')\n",
    "    \n",
    "    return filename,gc_content"
   ]
  },
  {
   "cell_type": "code",
   "execution_count": null,
   "id": "substantial-influence",
   "metadata": {},
   "outputs": [],
   "source": []
  },
  {
   "cell_type": "code",
   "execution_count": 73,
   "id": "lasting-prince",
   "metadata": {},
   "outputs": [
    {
     "name": "stdout",
     "output_type": "stream",
     "text": [
      "GC content has been calculated\n",
      "GC content has been calculated\n",
      "GC content has been calculated\n",
      "GC content has been calculated\n",
      "GC content has been calculated\n"
     ]
    }
   ],
   "source": [
    "for fasta in fasta_files:\n",
    "    filename,gc_content=calculate_gc(fasta)\n",
    "    \n",
    "    filenames.append(filename)\n",
    "    gc_contents.append(gc_content)"
   ]
  },
  {
   "cell_type": "code",
   "execution_count": null,
   "id": "directed-front",
   "metadata": {},
   "outputs": [],
   "source": []
  },
  {
   "cell_type": "code",
   "execution_count": 74,
   "id": "international-fifth",
   "metadata": {},
   "outputs": [
    {
     "data": {
      "text/plain": [
       "5"
      ]
     },
     "execution_count": 74,
     "metadata": {},
     "output_type": "execute_result"
    }
   ],
   "source": [
    "len(filenames)"
   ]
  },
  {
   "cell_type": "code",
   "execution_count": 75,
   "id": "unlimited-vanilla",
   "metadata": {},
   "outputs": [
    {
     "data": {
      "text/plain": [
       "5"
      ]
     },
     "execution_count": 75,
     "metadata": {},
     "output_type": "execute_result"
    }
   ],
   "source": [
    "len(gc_contents)"
   ]
  },
  {
   "cell_type": "code",
   "execution_count": 76,
   "id": "associate-cemetery",
   "metadata": {},
   "outputs": [
    {
     "data": {
      "text/plain": [
       "'AR465'"
      ]
     },
     "execution_count": 76,
     "metadata": {},
     "output_type": "execute_result"
    }
   ],
   "source": [
    "filenames[0]"
   ]
  },
  {
   "cell_type": "code",
   "execution_count": 77,
   "id": "comfortable-favor",
   "metadata": {},
   "outputs": [
    {
     "data": {
      "text/plain": [
       "32.92"
      ]
     },
     "execution_count": 77,
     "metadata": {},
     "output_type": "execute_result"
    }
   ],
   "source": [
    "gc_contents[0]"
   ]
  },
  {
   "cell_type": "code",
   "execution_count": null,
   "id": "prompt-bahamas",
   "metadata": {},
   "outputs": [],
   "source": []
  },
  {
   "cell_type": "code",
   "execution_count": 78,
   "id": "binary-swimming",
   "metadata": {},
   "outputs": [],
   "source": [
    "dataframe=pd.DataFrame()\n",
    "dataframe['filename']=filenames\n",
    "dataframe['gc_content']=gc_contents"
   ]
  },
  {
   "cell_type": "code",
   "execution_count": 79,
   "id": "likely-forestry",
   "metadata": {},
   "outputs": [
    {
     "data": {
      "text/plain": [
       "(5, 2)"
      ]
     },
     "execution_count": 79,
     "metadata": {},
     "output_type": "execute_result"
    }
   ],
   "source": [
    "dataframe.shape"
   ]
  },
  {
   "cell_type": "code",
   "execution_count": 80,
   "id": "becoming-trouble",
   "metadata": {},
   "outputs": [
    {
     "data": {
      "text/html": [
       "<div>\n",
       "<style scoped>\n",
       "    .dataframe tbody tr th:only-of-type {\n",
       "        vertical-align: middle;\n",
       "    }\n",
       "\n",
       "    .dataframe tbody tr th {\n",
       "        vertical-align: top;\n",
       "    }\n",
       "\n",
       "    .dataframe thead th {\n",
       "        text-align: right;\n",
       "    }\n",
       "</style>\n",
       "<table border=\"1\" class=\"dataframe\">\n",
       "  <thead>\n",
       "    <tr style=\"text-align: right;\">\n",
       "      <th></th>\n",
       "      <th>filename</th>\n",
       "      <th>gc_content</th>\n",
       "    </tr>\n",
       "  </thead>\n",
       "  <tbody>\n",
       "    <tr>\n",
       "      <th>0</th>\n",
       "      <td>AR465</td>\n",
       "      <td>32.92</td>\n",
       "    </tr>\n",
       "    <tr>\n",
       "      <th>1</th>\n",
       "      <td>R50</td>\n",
       "      <td>32.91</td>\n",
       "    </tr>\n",
       "    <tr>\n",
       "      <th>2</th>\n",
       "      <td>M48</td>\n",
       "      <td>32.81</td>\n",
       "    </tr>\n",
       "    <tr>\n",
       "      <th>3</th>\n",
       "      <td>P10</td>\n",
       "      <td>32.71</td>\n",
       "    </tr>\n",
       "    <tr>\n",
       "      <th>4</th>\n",
       "      <td>V521</td>\n",
       "      <td>32.81</td>\n",
       "    </tr>\n",
       "  </tbody>\n",
       "</table>\n",
       "</div>"
      ],
      "text/plain": [
       "  filename  gc_content\n",
       "0    AR465       32.92\n",
       "1      R50       32.91\n",
       "2      M48       32.81\n",
       "3      P10       32.71\n",
       "4     V521       32.81"
      ]
     },
     "execution_count": 80,
     "metadata": {},
     "output_type": "execute_result"
    }
   ],
   "source": [
    "dataframe.head()"
   ]
  },
  {
   "cell_type": "code",
   "execution_count": null,
   "id": "italic-royal",
   "metadata": {},
   "outputs": [],
   "source": []
  },
  {
   "cell_type": "code",
   "execution_count": 81,
   "id": "elder-snake",
   "metadata": {},
   "outputs": [],
   "source": [
    "outputfile='/home/kobina/Desktop/sequences/gc_content.csv'"
   ]
  },
  {
   "cell_type": "code",
   "execution_count": 82,
   "id": "union-chaos",
   "metadata": {},
   "outputs": [],
   "source": [
    "dataframe.to_csv(outputfile,index=False)"
   ]
  },
  {
   "cell_type": "code",
   "execution_count": null,
   "id": "governing-facility",
   "metadata": {},
   "outputs": [],
   "source": []
  },
  {
   "cell_type": "code",
   "execution_count": null,
   "id": "pacific-porcelain",
   "metadata": {},
   "outputs": [],
   "source": []
  },
  {
   "cell_type": "code",
   "execution_count": null,
   "id": "healthy-serial",
   "metadata": {},
   "outputs": [],
   "source": []
  },
  {
   "cell_type": "code",
   "execution_count": null,
   "id": "fitting-packing",
   "metadata": {},
   "outputs": [],
   "source": []
  },
  {
   "cell_type": "code",
   "execution_count": null,
   "id": "compatible-notebook",
   "metadata": {},
   "outputs": [],
   "source": []
  },
  {
   "cell_type": "code",
   "execution_count": null,
   "id": "rural-nigeria",
   "metadata": {},
   "outputs": [],
   "source": []
  },
  {
   "cell_type": "code",
   "execution_count": null,
   "id": "alert-amazon",
   "metadata": {},
   "outputs": [],
   "source": []
  },
  {
   "cell_type": "code",
   "execution_count": null,
   "id": "developed-subject",
   "metadata": {},
   "outputs": [],
   "source": []
  },
  {
   "cell_type": "code",
   "execution_count": null,
   "id": "strategic-monitoring",
   "metadata": {},
   "outputs": [],
   "source": []
  },
  {
   "cell_type": "code",
   "execution_count": 14,
   "id": "reflected-remainder",
   "metadata": {},
   "outputs": [
    {
     "data": {
      "text/plain": [
       "5"
      ]
     },
     "execution_count": 14,
     "metadata": {},
     "output_type": "execute_result"
    }
   ],
   "source": [
    "len(gc_contents)"
   ]
  },
  {
   "cell_type": "code",
   "execution_count": 15,
   "id": "deadly-significance",
   "metadata": {},
   "outputs": [
    {
     "data": {
      "text/plain": [
       "'AR465'"
      ]
     },
     "execution_count": 15,
     "metadata": {},
     "output_type": "execute_result"
    }
   ],
   "source": [
    "filenames[0]\n"
   ]
  },
  {
   "cell_type": "code",
   "execution_count": 16,
   "id": "consolidated-cream",
   "metadata": {},
   "outputs": [
    {
     "data": {
      "text/plain": [
       "'CP029082.1'"
      ]
     },
     "execution_count": 16,
     "metadata": {},
     "output_type": "execute_result"
    }
   ],
   "source": [
    "seq_ids[0]"
   ]
  },
  {
   "cell_type": "code",
   "execution_count": 17,
   "id": "rotary-hardwood",
   "metadata": {},
   "outputs": [
    {
     "data": {
      "text/plain": [
       "32.92"
      ]
     },
     "execution_count": 17,
     "metadata": {},
     "output_type": "execute_result"
    }
   ],
   "source": [
    "gc_contents[0]"
   ]
  },
  {
   "cell_type": "code",
   "execution_count": 18,
   "id": "sophisticated-barrier",
   "metadata": {},
   "outputs": [
    {
     "ename": "NameError",
     "evalue": "name 'pd' is not defined",
     "output_type": "error",
     "traceback": [
      "\u001b[0;31m---------------------------------------------------------------------------\u001b[0m",
      "\u001b[0;31mNameError\u001b[0m                                 Traceback (most recent call last)",
      "\u001b[0;32m<ipython-input-18-c93dcd0b407d>\u001b[0m in \u001b[0;36m<module>\u001b[0;34m\u001b[0m\n\u001b[0;32m----> 1\u001b[0;31m \u001b[0mdataframe\u001b[0m\u001b[0;34m=\u001b[0m\u001b[0mpd\u001b[0m\u001b[0;34m.\u001b[0m\u001b[0mDataFrame\u001b[0m\u001b[0;34m(\u001b[0m\u001b[0;34m)\u001b[0m\u001b[0;34m\u001b[0m\u001b[0;34m\u001b[0m\u001b[0m\n\u001b[0m",
      "\u001b[0;31mNameError\u001b[0m: name 'pd' is not defined"
     ]
    }
   ],
   "source": [
    "dataframe=pd.DataFrame()\n"
   ]
  },
  {
   "cell_type": "code",
   "execution_count": null,
   "id": "eligible-ebony",
   "metadata": {},
   "outputs": [],
   "source": []
  },
  {
   "cell_type": "code",
   "execution_count": null,
   "id": "taken-devon",
   "metadata": {},
   "outputs": [],
   "source": []
  },
  {
   "cell_type": "code",
   "execution_count": null,
   "id": "separate-profile",
   "metadata": {},
   "outputs": [],
   "source": []
  },
  {
   "cell_type": "code",
   "execution_count": null,
   "id": "conscious-beauty",
   "metadata": {},
   "outputs": [],
   "source": []
  },
  {
   "cell_type": "code",
   "execution_count": null,
   "id": "intensive-forum",
   "metadata": {},
   "outputs": [],
   "source": []
  },
  {
   "cell_type": "code",
   "execution_count": null,
   "id": "reported-technique",
   "metadata": {},
   "outputs": [],
   "source": []
  },
  {
   "cell_type": "code",
   "execution_count": null,
   "id": "eastern-johns",
   "metadata": {},
   "outputs": [],
   "source": []
  },
  {
   "cell_type": "code",
   "execution_count": null,
   "id": "seventh-watershed",
   "metadata": {},
   "outputs": [],
   "source": []
  },
  {
   "cell_type": "code",
   "execution_count": null,
   "id": "medieval-harvard",
   "metadata": {},
   "outputs": [],
   "source": []
  },
  {
   "cell_type": "code",
   "execution_count": null,
   "id": "going-concrete",
   "metadata": {},
   "outputs": [],
   "source": []
  },
  {
   "cell_type": "code",
   "execution_count": null,
   "id": "professional-arrangement",
   "metadata": {},
   "outputs": [],
   "source": []
  },
  {
   "cell_type": "code",
   "execution_count": null,
   "id": "lovely-vision",
   "metadata": {},
   "outputs": [],
   "source": []
  },
  {
   "cell_type": "code",
   "execution_count": null,
   "id": "ongoing-barrier",
   "metadata": {},
   "outputs": [],
   "source": []
  },
  {
   "cell_type": "markdown",
   "id": "colored-blind",
   "metadata": {},
   "source": [
    "## Calculate GC content of sequences in a multi-fasta file"
   ]
  },
  {
   "cell_type": "markdown",
   "id": "latest-detective",
   "metadata": {},
   "source": [
    "- Python Libraries:\n",
    "  - Biopython    (  _pip install biopython --user_)\n",
    "  - Pandas       (  _pip install pandas --user_)"
   ]
  },
  {
   "cell_type": "code",
   "execution_count": 2,
   "id": "amended-arctic",
   "metadata": {},
   "outputs": [],
   "source": [
    "from Bio import SeqIO\n",
    "from Bio.SeqUtils import GC\n",
    "import pandas as pd"
   ]
  },
  {
   "cell_type": "code",
   "execution_count": 3,
   "id": "rolled-yemen",
   "metadata": {},
   "outputs": [],
   "source": [
    "filepath='/home/kobina/Desktop/multi-fasta.fasta'"
   ]
  },
  {
   "cell_type": "code",
   "execution_count": 4,
   "id": "fatal-polls",
   "metadata": {},
   "outputs": [],
   "source": [
    "seq_objects=SeqIO.parse(filepath,'fasta')"
   ]
  },
  {
   "cell_type": "code",
   "execution_count": 5,
   "id": "adjustable-pencil",
   "metadata": {},
   "outputs": [],
   "source": [
    "sequences=[seq for seq in seq_objects]"
   ]
  },
  {
   "cell_type": "code",
   "execution_count": 6,
   "id": "starting-minnesota",
   "metadata": {},
   "outputs": [
    {
     "name": "stdout",
     "output_type": "stream",
     "text": [
      "3\n"
     ]
    }
   ],
   "source": [
    "number_of_sequences=len(sequences)\n",
    "print(number_of_sequences)"
   ]
  },
  {
   "cell_type": "code",
   "execution_count": 7,
   "id": "extreme-finish",
   "metadata": {},
   "outputs": [
    {
     "name": "stdout",
     "output_type": "stream",
     "text": [
      "SeqID_01 34.26\n",
      "SeqID_02 34.21\n",
      "SeqID_03 40.91\n"
     ]
    }
   ],
   "source": [
    "for seq in sequences:\n",
    "    seq_id=seq.id\n",
    "    sequence=seq.seq\n",
    "    gc_content=GC(sequence)\n",
    "    gc_content=round(gc_content,2)\n",
    "    print(seq_id,gc_content)\n",
    "    "
   ]
  },
  {
   "cell_type": "code",
   "execution_count": null,
   "id": "conservative-virgin",
   "metadata": {},
   "outputs": [],
   "source": []
  },
  {
   "cell_type": "code",
   "execution_count": 8,
   "id": "surprised-adobe",
   "metadata": {},
   "outputs": [
    {
     "name": "stdout",
     "output_type": "stream",
     "text": [
      "GC content has been computed\n",
      "GC content has been computed\n",
      "GC content has been computed\n"
     ]
    }
   ],
   "source": [
    "seq_ids=[]\n",
    "gc_contents=[]\n",
    "\n",
    "for seq in sequences:\n",
    "    seq_id=seq.id\n",
    "    sequence=seq.seq\n",
    "    gc_content=GC(sequence)\n",
    "    gc_content=round(gc_content,2)\n",
    "    \n",
    "    seq_ids.append(seq_id)\n",
    "    gc_contents.append(gc_content)\n",
    "    print('GC content has been computed')\n",
    "    "
   ]
  },
  {
   "cell_type": "code",
   "execution_count": 9,
   "id": "initial-setup",
   "metadata": {},
   "outputs": [
    {
     "name": "stdout",
     "output_type": "stream",
     "text": [
      "['SeqID_01', 'SeqID_02', 'SeqID_03']\n"
     ]
    }
   ],
   "source": [
    "print(seq_ids)"
   ]
  },
  {
   "cell_type": "code",
   "execution_count": 10,
   "id": "dependent-grill",
   "metadata": {},
   "outputs": [
    {
     "name": "stdout",
     "output_type": "stream",
     "text": [
      "[34.26, 34.21, 40.91]\n"
     ]
    }
   ],
   "source": [
    "print(gc_contents)"
   ]
  },
  {
   "cell_type": "code",
   "execution_count": 11,
   "id": "dimensional-preference",
   "metadata": {},
   "outputs": [
    {
     "name": "stdout",
     "output_type": "stream",
     "text": [
      "SeqID_01\n",
      "34.26\n"
     ]
    }
   ],
   "source": [
    "print(seq_ids[0])\n",
    "print(gc_contents[0])"
   ]
  },
  {
   "cell_type": "code",
   "execution_count": null,
   "id": "urban-strain",
   "metadata": {},
   "outputs": [],
   "source": []
  },
  {
   "cell_type": "code",
   "execution_count": 12,
   "id": "biblical-differential",
   "metadata": {},
   "outputs": [],
   "source": [
    "dataframe=pd.DataFrame()\n",
    "dataframe['Sequence_ID']=seq_ids\n",
    "dataframe['GC_Content']=gc_contents"
   ]
  },
  {
   "cell_type": "code",
   "execution_count": 13,
   "id": "entitled-diamond",
   "metadata": {},
   "outputs": [
    {
     "name": "stdout",
     "output_type": "stream",
     "text": [
      "(3, 2)\n"
     ]
    }
   ],
   "source": [
    "print(dataframe.shape)"
   ]
  },
  {
   "cell_type": "code",
   "execution_count": 14,
   "id": "exempt-coupon",
   "metadata": {},
   "outputs": [
    {
     "name": "stdout",
     "output_type": "stream",
     "text": [
      "  Sequence_ID  GC_Content\n",
      "0    SeqID_01       34.26\n",
      "1    SeqID_02       34.21\n",
      "2    SeqID_03       40.91\n"
     ]
    }
   ],
   "source": [
    "print(dataframe)"
   ]
  },
  {
   "cell_type": "code",
   "execution_count": 15,
   "id": "running-healing",
   "metadata": {},
   "outputs": [],
   "source": [
    "outputfile='/home/kobina/Desktop/gc_content.csv'\n",
    "dataframe.to_csv(outputfile,index=False)"
   ]
  },
  {
   "cell_type": "code",
   "execution_count": null,
   "id": "textile-building",
   "metadata": {},
   "outputs": [],
   "source": []
  },
  {
   "cell_type": "code",
   "execution_count": null,
   "id": "imported-conjunction",
   "metadata": {},
   "outputs": [],
   "source": []
  },
  {
   "cell_type": "code",
   "execution_count": null,
   "id": "parliamentary-klein",
   "metadata": {},
   "outputs": [],
   "source": []
  }
 ],
 "metadata": {
  "kernelspec": {
   "display_name": "Python 3",
   "language": "python",
   "name": "python3"
  },
  "language_info": {
   "codemirror_mode": {
    "name": "ipython",
    "version": 3
   },
   "file_extension": ".py",
   "mimetype": "text/x-python",
   "name": "python",
   "nbconvert_exporter": "python",
   "pygments_lexer": "ipython3",
   "version": "3.6.9"
  }
 },
 "nbformat": 4,
 "nbformat_minor": 5
}
