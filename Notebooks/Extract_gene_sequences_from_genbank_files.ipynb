{
 "cells": [
  {
   "cell_type": "markdown",
   "id": "mysterious-parallel",
   "metadata": {},
   "source": [
    "## This notebook has codes for extracting gene sequences from genbank files\n",
    "The video tutorials is available on youtube\n",
    "1. https://youtu.be/LdQV3cbUwEE\n",
    "2. https://youtu.be/HP7ThAj_f1E\n",
    "3. https://youtu.be/2tMQYi_12IQ"
   ]
  },
  {
   "cell_type": "code",
   "execution_count": null,
   "id": "northern-words",
   "metadata": {},
   "outputs": [],
   "source": []
  },
  {
   "cell_type": "markdown",
   "id": "chinese-arnold",
   "metadata": {},
   "source": [
    "### Extract  a Gene Sequence from a Genbank file using Python"
   ]
  },
  {
   "cell_type": "markdown",
   "id": "previous-device",
   "metadata": {},
   "source": [
    "- **Task**\n",
    "    - Extract rpoB gene from a bacterial genome \n",
    "- **Python library**\n",
    "   - Biopython\n",
    "- **Information required**\n",
    "    - feature type  (gene)\n",
    "    - gene name          (rpoB)"
   ]
  },
  {
   "cell_type": "code",
   "execution_count": null,
   "id": "advance-merchandise",
   "metadata": {},
   "outputs": [],
   "source": []
  },
  {
   "cell_type": "code",
   "execution_count": 18,
   "id": "advisory-shark",
   "metadata": {},
   "outputs": [],
   "source": [
    "#import biopython library\n",
    "from Bio import SeqIO"
   ]
  },
  {
   "cell_type": "code",
   "execution_count": 19,
   "id": "experimental-dakota",
   "metadata": {},
   "outputs": [],
   "source": [
    "#set file path\n",
    "file_path='/home/kobina/Desktop/sequence.gb'"
   ]
  },
  {
   "cell_type": "code",
   "execution_count": 20,
   "id": "accessory-zealand",
   "metadata": {},
   "outputs": [],
   "source": [
    "# read genbank file\n",
    "gb_obj=SeqIO.read(file_path,'gb')"
   ]
  },
  {
   "cell_type": "code",
   "execution_count": 22,
   "id": "better-nowhere",
   "metadata": {},
   "outputs": [],
   "source": [
    "#extract all gene sequences\n",
    "genes=[]\n",
    "for feature in gb_obj.features:\n",
    "    if feature.type=='gene':\n",
    "        genes.append(feature)"
   ]
  },
  {
   "cell_type": "code",
   "execution_count": 23,
   "id": "white-scientist",
   "metadata": {},
   "outputs": [
    {
     "data": {
      "text/plain": [
       "2872"
      ]
     },
     "execution_count": 23,
     "metadata": {},
     "output_type": "execute_result"
    }
   ],
   "source": [
    "len(genes)"
   ]
  },
  {
   "cell_type": "code",
   "execution_count": 24,
   "id": "asian-dispatch",
   "metadata": {},
   "outputs": [],
   "source": [
    "#define gene of interest\n",
    "gene_of_interest='rpoB'"
   ]
  },
  {
   "cell_type": "code",
   "execution_count": 25,
   "id": "bronze-first",
   "metadata": {},
   "outputs": [],
   "source": [
    "#create empty list to store the extracted gene of interest\n",
    "hits=[]"
   ]
  },
  {
   "cell_type": "code",
   "execution_count": null,
   "id": "practical-booking",
   "metadata": {},
   "outputs": [],
   "source": [
    "\n",
    "#iterate through the genes and select the gene of interest \n",
    "for gene in genes:\n",
    "    if 'gene' in gene.qualifiers.keys():\n",
    "        if gene_of_interest == gene.qualifiers['gene'][0]:\n",
    "            hits.append(gene)\n",
    "            print('gene found')"
   ]
  },
  {
   "cell_type": "code",
   "execution_count": 27,
   "id": "precious-monday",
   "metadata": {},
   "outputs": [
    {
     "data": {
      "text/plain": [
       "1"
      ]
     },
     "execution_count": 27,
     "metadata": {},
     "output_type": "execute_result"
    }
   ],
   "source": [
    "len(hits)"
   ]
  },
  {
   "cell_type": "code",
   "execution_count": 28,
   "id": "excellent-liabilities",
   "metadata": {},
   "outputs": [],
   "source": [
    "rpoB=hits[0]"
   ]
  },
  {
   "cell_type": "code",
   "execution_count": 29,
   "id": "secret-matter",
   "metadata": {},
   "outputs": [],
   "source": [
    "extracted_sequence=rpoB.extract(gb_obj)"
   ]
  },
  {
   "cell_type": "code",
   "execution_count": 30,
   "id": "assisted-orchestra",
   "metadata": {},
   "outputs": [
    {
     "data": {
      "text/plain": [
       "3552"
      ]
     },
     "execution_count": 30,
     "metadata": {},
     "output_type": "execute_result"
    }
   ],
   "source": [
    "len(extracted_sequence.seq)"
   ]
  },
  {
   "cell_type": "code",
   "execution_count": 31,
   "id": "powered-spanking",
   "metadata": {},
   "outputs": [],
   "source": [
    "extracted_sequence.id='rpoB'"
   ]
  },
  {
   "cell_type": "code",
   "execution_count": 32,
   "id": "english-scanning",
   "metadata": {},
   "outputs": [],
   "source": [
    "extracted_sequence.description='NCTC_8325'"
   ]
  },
  {
   "cell_type": "code",
   "execution_count": 33,
   "id": "cubic-incident",
   "metadata": {},
   "outputs": [],
   "source": [
    "#calculate gc content\n",
    "from Bio.SeqUtils import GC"
   ]
  },
  {
   "cell_type": "code",
   "execution_count": 34,
   "id": "activated-windsor",
   "metadata": {},
   "outputs": [],
   "source": [
    "gc_content=GC(extracted_sequence.seq)"
   ]
  },
  {
   "cell_type": "code",
   "execution_count": 35,
   "id": "incredible-finland",
   "metadata": {},
   "outputs": [
    {
     "data": {
      "text/plain": [
       "37.556306306306304"
      ]
     },
     "execution_count": 35,
     "metadata": {},
     "output_type": "execute_result"
    }
   ],
   "source": [
    "gc_content"
   ]
  },
  {
   "cell_type": "code",
   "execution_count": 36,
   "id": "distant-programming",
   "metadata": {},
   "outputs": [
    {
     "data": {
      "text/plain": [
       "37.56"
      ]
     },
     "execution_count": 36,
     "metadata": {},
     "output_type": "execute_result"
    }
   ],
   "source": [
    "round(gc_content,2)"
   ]
  },
  {
   "cell_type": "code",
   "execution_count": 37,
   "id": "abstract-integration",
   "metadata": {},
   "outputs": [],
   "source": [
    "\n",
    "#save the gene sequence to an output fasta file\n",
    "outputfile='/home/kobina/Desktop/rpob.fasta'\n",
    "SeqIO.write(extracted_sequence,outputfile,'fasta')"
   ]
  },
  {
   "cell_type": "code",
   "execution_count": null,
   "id": "american-bridges",
   "metadata": {},
   "outputs": [],
   "source": []
  },
  {
   "cell_type": "markdown",
   "id": "internal-camcorder",
   "metadata": {},
   "source": [
    "### Extract Multiple Gene Sequences from a GenBank file"
   ]
  },
  {
   "cell_type": "markdown",
   "id": "mechanical-quarterly",
   "metadata": {},
   "source": [
    "* Task : extract gene sequences from an *E. coli* genome\n",
    "* Requirement:\n",
    "    * a text file containing genes of interest\n",
    "    * biopython"
   ]
  },
  {
   "cell_type": "code",
   "execution_count": 1,
   "id": "adjustable-height",
   "metadata": {},
   "outputs": [],
   "source": [
    "genome_file='/home/kobina/Desktop/sakai.gb'\n",
    "gene_list_file='/home/kobina/Desktop/vir_factors.txt'"
   ]
  },
  {
   "cell_type": "code",
   "execution_count": 2,
   "id": "fifth-detective",
   "metadata": {},
   "outputs": [],
   "source": [
    "from Bio import SeqIO"
   ]
  },
  {
   "cell_type": "code",
   "execution_count": 4,
   "id": "brief-brazil",
   "metadata": {},
   "outputs": [],
   "source": [
    "with open(gene_list_file,'r') as input_file:\n",
    "    gene_names=[line.strip('\\n') for line in input_file]"
   ]
  },
  {
   "cell_type": "code",
   "execution_count": 5,
   "id": "optical-heating",
   "metadata": {},
   "outputs": [
    {
     "data": {
      "text/plain": [
       "28"
      ]
     },
     "execution_count": 5,
     "metadata": {},
     "output_type": "execute_result"
    }
   ],
   "source": [
    "len(gene_names)"
   ]
  },
  {
   "cell_type": "code",
   "execution_count": 6,
   "id": "joint-private",
   "metadata": {},
   "outputs": [
    {
     "data": {
      "text/plain": [
       "['eae', 'ecpA', 'ecpB', 'ecpC', 'ecpD']"
      ]
     },
     "execution_count": 6,
     "metadata": {},
     "output_type": "execute_result"
    }
   ],
   "source": [
    "gene_names[0:5]"
   ]
  },
  {
   "cell_type": "code",
   "execution_count": null,
   "id": "advisory-eleven",
   "metadata": {},
   "outputs": [],
   "source": []
  },
  {
   "cell_type": "code",
   "execution_count": 7,
   "id": "hearing-statistics",
   "metadata": {},
   "outputs": [],
   "source": [
    "gb_object=SeqIO.read(genome_file,'gb')"
   ]
  },
  {
   "cell_type": "code",
   "execution_count": 8,
   "id": "massive-sampling",
   "metadata": {},
   "outputs": [],
   "source": [
    "allgenes=[feature for feature in gb_object.features if feature.type =='gene']"
   ]
  },
  {
   "cell_type": "code",
   "execution_count": 9,
   "id": "joint-intake",
   "metadata": {},
   "outputs": [
    {
     "data": {
      "text/plain": [
       "5329"
      ]
     },
     "execution_count": 9,
     "metadata": {},
     "output_type": "execute_result"
    }
   ],
   "source": [
    "len(allgenes)"
   ]
  },
  {
   "cell_type": "code",
   "execution_count": 10,
   "id": "divided-pension",
   "metadata": {},
   "outputs": [],
   "source": [
    "gene_sequences=[]"
   ]
  },
  {
   "cell_type": "code",
   "execution_count": null,
   "id": "recent-volume",
   "metadata": {},
   "outputs": [],
   "source": [
    "for gene in allgenes:\n",
    "    if 'gene' in gene.qualifiers.keys():\n",
    "        gene_name=gene.qualifiers['gene'][0]\n",
    "        if gene_name in gene_names:\n",
    "            extract=gene.extract(gb_object)\n",
    "            extract.id=gene_name\n",
    "            extract.description=''\n",
    "            gene_sequences.append(extract)\n",
    "            print('gene %s has been found'%gene_name)"
   ]
  },
  {
   "cell_type": "code",
   "execution_count": null,
   "id": "defined-carnival",
   "metadata": {},
   "outputs": [],
   "source": []
  },
  {
   "cell_type": "code",
   "execution_count": 12,
   "id": "alternate-opinion",
   "metadata": {},
   "outputs": [
    {
     "data": {
      "text/plain": [
       "28"
      ]
     },
     "execution_count": 12,
     "metadata": {},
     "output_type": "execute_result"
    }
   ],
   "source": [
    "len(gene_sequences)"
   ]
  },
  {
   "cell_type": "code",
   "execution_count": 13,
   "id": "flexible-chair",
   "metadata": {},
   "outputs": [],
   "source": [
    "outputfile='/home/kobina/Desktop/vir_factors.fasta'"
   ]
  },
  {
   "cell_type": "code",
   "execution_count": 14,
   "id": "curious-jimmy",
   "metadata": {},
   "outputs": [
    {
     "data": {
      "text/plain": [
       "28"
      ]
     },
     "execution_count": 14,
     "metadata": {},
     "output_type": "execute_result"
    }
   ],
   "source": [
    "SeqIO.write(gene_sequences,outputfile,'fasta')"
   ]
  },
  {
   "cell_type": "code",
   "execution_count": null,
   "id": "closed-reserve",
   "metadata": {},
   "outputs": [],
   "source": []
  },
  {
   "cell_type": "code",
   "execution_count": null,
   "id": "intelligent-building",
   "metadata": {},
   "outputs": [],
   "source": []
  },
  {
   "cell_type": "markdown",
   "id": "absolute-finger",
   "metadata": {},
   "source": [
    "### Extract a Gene Sequence from Multiple GenBank files using Python"
   ]
  },
  {
   "cell_type": "markdown",
   "id": "reverse-methodology",
   "metadata": {},
   "source": [
    "- **Task**\n",
    "    - Extract rpoB gene from the genome of different strains of a bacteria species(*Staphylococcus aureus*)\n",
    "\n",
    "- **Python library**\n",
    "   - Biopython\n",
    "- **Information required**\n",
    "    - feature type  (gene)\n",
    "    - gene name          (rpoB)\n",
    "    - genbank files"
   ]
  },
  {
   "cell_type": "code",
   "execution_count": 17,
   "id": "massive-advocacy",
   "metadata": {},
   "outputs": [],
   "source": [
    "from Bio import SeqIO\n",
    "import os\n",
    "from glob import glob"
   ]
  },
  {
   "cell_type": "code",
   "execution_count": 18,
   "id": "registered-reduction",
   "metadata": {},
   "outputs": [],
   "source": [
    "file_directory='/home/kobina/Desktop/sequences'"
   ]
  },
  {
   "cell_type": "code",
   "execution_count": 19,
   "id": "distant-tampa",
   "metadata": {},
   "outputs": [],
   "source": [
    "file_names=glob('%s/*.gb'%file_directory)"
   ]
  },
  {
   "cell_type": "code",
   "execution_count": 20,
   "id": "clear-miller",
   "metadata": {},
   "outputs": [
    {
     "data": {
      "text/plain": [
       "6"
      ]
     },
     "execution_count": 20,
     "metadata": {},
     "output_type": "execute_result"
    }
   ],
   "source": [
    "len(file_names)"
   ]
  },
  {
   "cell_type": "code",
   "execution_count": 21,
   "id": "threatened-transmission",
   "metadata": {},
   "outputs": [
    {
     "data": {
      "text/plain": [
       "['/home/kobina/Desktop/sequences/NCTC_8325.gb',\n",
       " '/home/kobina/Desktop/sequences/NRS1.gb',\n",
       " '/home/kobina/Desktop/sequences/AR465.gb',\n",
       " '/home/kobina/Desktop/sequences/R50.gb',\n",
       " '/home/kobina/Desktop/sequences/P10.gb',\n",
       " '/home/kobina/Desktop/sequences/M48.gb']"
      ]
     },
     "execution_count": 21,
     "metadata": {},
     "output_type": "execute_result"
    }
   ],
   "source": [
    "file_names"
   ]
  },
  {
   "cell_type": "code",
   "execution_count": 22,
   "id": "anonymous-sample",
   "metadata": {},
   "outputs": [],
   "source": [
    "gene_of_interest='rpoB'"
   ]
  },
  {
   "cell_type": "code",
   "execution_count": 34,
   "id": "covered-terminology",
   "metadata": {},
   "outputs": [],
   "source": [
    "sequences=[]"
   ]
  },
  {
   "cell_type": "code",
   "execution_count": 32,
   "id": "dated-destruction",
   "metadata": {},
   "outputs": [],
   "source": [
    "def extract_sequence(genbank_file,gene_of_interest):\n",
    "    \n",
    "    gb_obj=SeqIO.read(genbank_file,'gb')\n",
    "    genes=[]\n",
    "    for feature in gb_obj.features:\n",
    "        if feature.type=='gene':\n",
    "            genes.append(feature)\n",
    "    hits=[]\n",
    "    for gene in genes:\n",
    "        if 'gene' in gene.qualifiers.keys():\n",
    "            if gene_of_interest == gene.qualifiers['gene'][0]:\n",
    "                hits.append(gene)\n",
    "                print('gene found')\n",
    "    rpoB=hits[0]\n",
    "    extracted_sequence=rpoB.extract(gb_obj)\n",
    "    \n",
    "    return extracted_sequence\n",
    "    \n",
    "    \n",
    "    "
   ]
  },
  {
   "cell_type": "code",
   "execution_count": 35,
   "id": "public-atlas",
   "metadata": {},
   "outputs": [
    {
     "name": "stdout",
     "output_type": "stream",
     "text": [
      "gene found\n",
      "gene found\n",
      "gene found\n",
      "gene found\n",
      "gene found\n",
      "gene found\n"
     ]
    }
   ],
   "source": [
    "for file_ in file_names:\n",
    "    sequence=extract_sequence(file_,gene_of_interest)\n",
    "    name=os.path.split(file_)[-1]\n",
    "    name=name.strip('.gb')\n",
    "    sequence.id=name\n",
    "    sequence.description=''\n",
    "    sequences.append(sequence)"
   ]
  },
  {
   "cell_type": "code",
   "execution_count": 36,
   "id": "greenhouse-macedonia",
   "metadata": {},
   "outputs": [
    {
     "data": {
      "text/plain": [
       "6"
      ]
     },
     "execution_count": 36,
     "metadata": {},
     "output_type": "execute_result"
    }
   ],
   "source": [
    "len(sequences)"
   ]
  },
  {
   "cell_type": "code",
   "execution_count": 37,
   "id": "challenging-trademark",
   "metadata": {},
   "outputs": [
    {
     "data": {
      "text/plain": [
       "'NCTC_8325'"
      ]
     },
     "execution_count": 37,
     "metadata": {},
     "output_type": "execute_result"
    }
   ],
   "source": [
    "sequences[0].id"
   ]
  },
  {
   "cell_type": "code",
   "execution_count": 38,
   "id": "combined-contact",
   "metadata": {},
   "outputs": [
    {
     "name": "stdout",
     "output_type": "stream",
     "text": [
      "NCTC_8325\n",
      "NRS1\n",
      "AR465\n",
      "R50\n",
      "P10\n",
      "M48\n"
     ]
    }
   ],
   "source": [
    "for sequence in sequences:\n",
    "    seq_id=sequence.id\n",
    "    outputfile='/home/kobina/Desktop/%s.fasta'%seq_id\n",
    "    print(seq_id)\n",
    "    SeqIO.write(sequence,outputfile,'fasta')"
   ]
  },
  {
   "cell_type": "code",
   "execution_count": null,
   "id": "intensive-candy",
   "metadata": {},
   "outputs": [],
   "source": []
  },
  {
   "cell_type": "code",
   "execution_count": 39,
   "id": "other-insider",
   "metadata": {},
   "outputs": [],
   "source": [
    "outputfile='/home/kobina/Desktop/rpoB.fasta'\n"
   ]
  },
  {
   "cell_type": "code",
   "execution_count": 41,
   "id": "nearby-cooperative",
   "metadata": {},
   "outputs": [
    {
     "data": {
      "text/plain": [
       "6"
      ]
     },
     "execution_count": 41,
     "metadata": {},
     "output_type": "execute_result"
    }
   ],
   "source": [
    "SeqIO.write(sequences,outputfile,'fasta')"
   ]
  },
  {
   "cell_type": "code",
   "execution_count": null,
   "id": "veterinary-discretion",
   "metadata": {},
   "outputs": [],
   "source": []
  },
  {
   "cell_type": "code",
   "execution_count": null,
   "id": "mature-listing",
   "metadata": {},
   "outputs": [],
   "source": []
  },
  {
   "cell_type": "code",
   "execution_count": null,
   "id": "humanitarian-wireless",
   "metadata": {},
   "outputs": [],
   "source": []
  },
  {
   "cell_type": "code",
   "execution_count": null,
   "id": "blond-buffalo",
   "metadata": {},
   "outputs": [],
   "source": []
  },
  {
   "cell_type": "code",
   "execution_count": null,
   "id": "characteristic-being",
   "metadata": {},
   "outputs": [],
   "source": []
  },
  {
   "cell_type": "code",
   "execution_count": null,
   "id": "consecutive-coupon",
   "metadata": {},
   "outputs": [],
   "source": []
  },
  {
   "cell_type": "code",
   "execution_count": null,
   "id": "julian-ranch",
   "metadata": {},
   "outputs": [],
   "source": []
  },
  {
   "cell_type": "code",
   "execution_count": null,
   "id": "crazy-miniature",
   "metadata": {},
   "outputs": [],
   "source": []
  },
  {
   "cell_type": "code",
   "execution_count": null,
   "id": "constitutional-refrigerator",
   "metadata": {},
   "outputs": [],
   "source": []
  },
  {
   "cell_type": "code",
   "execution_count": null,
   "id": "vocal-friendly",
   "metadata": {},
   "outputs": [],
   "source": []
  },
  {
   "cell_type": "code",
   "execution_count": null,
   "id": "unable-depth",
   "metadata": {},
   "outputs": [],
   "source": []
  },
  {
   "cell_type": "code",
   "execution_count": null,
   "id": "bulgarian-parker",
   "metadata": {},
   "outputs": [],
   "source": []
  },
  {
   "cell_type": "code",
   "execution_count": null,
   "id": "bulgarian-hormone",
   "metadata": {},
   "outputs": [],
   "source": []
  },
  {
   "cell_type": "code",
   "execution_count": null,
   "id": "upper-exclusion",
   "metadata": {},
   "outputs": [],
   "source": []
  },
  {
   "cell_type": "code",
   "execution_count": null,
   "id": "secondary-workplace",
   "metadata": {},
   "outputs": [],
   "source": []
  },
  {
   "cell_type": "code",
   "execution_count": null,
   "id": "chubby-complement",
   "metadata": {},
   "outputs": [],
   "source": []
  },
  {
   "cell_type": "code",
   "execution_count": null,
   "id": "human-tennis",
   "metadata": {},
   "outputs": [],
   "source": []
  },
  {
   "cell_type": "code",
   "execution_count": null,
   "id": "cheap-morris",
   "metadata": {},
   "outputs": [],
   "source": []
  },
  {
   "cell_type": "code",
   "execution_count": null,
   "id": "raising-palestine",
   "metadata": {},
   "outputs": [],
   "source": []
  },
  {
   "cell_type": "code",
   "execution_count": null,
   "id": "intermediate-carnival",
   "metadata": {},
   "outputs": [],
   "source": []
  },
  {
   "cell_type": "code",
   "execution_count": null,
   "id": "major-senator",
   "metadata": {},
   "outputs": [],
   "source": []
  },
  {
   "cell_type": "code",
   "execution_count": null,
   "id": "annoying-inflation",
   "metadata": {},
   "outputs": [],
   "source": []
  },
  {
   "cell_type": "code",
   "execution_count": null,
   "id": "dated-printer",
   "metadata": {},
   "outputs": [],
   "source": []
  }
 ],
 "metadata": {
  "kernelspec": {
   "display_name": "Python 3",
   "language": "python",
   "name": "python3"
  },
  "language_info": {
   "codemirror_mode": {
    "name": "ipython",
    "version": 3
   },
   "file_extension": ".py",
   "mimetype": "text/x-python",
   "name": "python",
   "nbconvert_exporter": "python",
   "pygments_lexer": "ipython3",
   "version": "3.6.9"
  }
 },
 "nbformat": 4,
 "nbformat_minor": 5
}
