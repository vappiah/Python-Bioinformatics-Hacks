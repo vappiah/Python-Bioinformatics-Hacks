{
 "cells": [
  {
   "cell_type": "markdown",
   "id": "chinese-arnold",
   "metadata": {},
   "source": [
    "## Extract  a Gene Sequence from a Genbank file using Python"
   ]
  },
  {
   "cell_type": "markdown",
   "id": "previous-device",
   "metadata": {},
   "source": [
    "- **Task**\n",
    "    - Extract rpoB gene from a bacterial genome \n",
    "- **Python library**\n",
    "   - Biopython\n",
    "- **Information required**\n",
    "    - feature type  (gene)\n",
    "    - gene name          (rpoB)"
   ]
  },
  {
   "cell_type": "code",
   "execution_count": null,
   "id": "advance-merchandise",
   "metadata": {},
   "outputs": [],
   "source": []
  },
  {
   "cell_type": "code",
   "execution_count": 18,
   "id": "advisory-shark",
   "metadata": {},
   "outputs": [],
   "source": [
    "from Bio import SeqIO"
   ]
  },
  {
   "cell_type": "code",
   "execution_count": 19,
   "id": "experimental-dakota",
   "metadata": {},
   "outputs": [],
   "source": [
    "file_path='/home/kobina/Desktop/sequence.gb'"
   ]
  },
  {
   "cell_type": "code",
   "execution_count": 20,
   "id": "accessory-zealand",
   "metadata": {},
   "outputs": [],
   "source": [
    "gb_obj=SeqIO.read(file_path,'gb')"
   ]
  },
  {
   "cell_type": "code",
   "execution_count": 21,
   "id": "given-vegetable",
   "metadata": {},
   "outputs": [],
   "source": [
    "genes=[]"
   ]
  },
  {
   "cell_type": "code",
   "execution_count": 22,
   "id": "better-nowhere",
   "metadata": {},
   "outputs": [],
   "source": [
    "for feature in gb_obj.features:\n",
    "    if feature.type=='gene':\n",
    "        genes.append(feature)"
   ]
  },
  {
   "cell_type": "code",
   "execution_count": 23,
   "id": "white-scientist",
   "metadata": {},
   "outputs": [
    {
     "data": {
      "text/plain": [
       "2872"
      ]
     },
     "execution_count": 23,
     "metadata": {},
     "output_type": "execute_result"
    }
   ],
   "source": [
    "len(genes)"
   ]
  },
  {
   "cell_type": "code",
   "execution_count": 24,
   "id": "asian-dispatch",
   "metadata": {},
   "outputs": [],
   "source": [
    "gene_of_interest='rpoB'"
   ]
  },
  {
   "cell_type": "code",
   "execution_count": 25,
   "id": "bronze-first",
   "metadata": {},
   "outputs": [],
   "source": [
    "hits=[]"
   ]
  },
  {
   "cell_type": "code",
   "execution_count": 26,
   "id": "practical-booking",
   "metadata": {},
   "outputs": [
    {
     "name": "stdout",
     "output_type": "stream",
     "text": [
      "gene found\n"
     ]
    }
   ],
   "source": [
    "for gene in genes:\n",
    "    if 'gene' in gene.qualifiers.keys():\n",
    "        if gene_of_interest == gene.qualifiers['gene'][0]:\n",
    "            hits.append(gene)\n",
    "            print('gene found')"
   ]
  },
  {
   "cell_type": "code",
   "execution_count": 27,
   "id": "precious-monday",
   "metadata": {},
   "outputs": [
    {
     "data": {
      "text/plain": [
       "1"
      ]
     },
     "execution_count": 27,
     "metadata": {},
     "output_type": "execute_result"
    }
   ],
   "source": [
    "len(hits)"
   ]
  },
  {
   "cell_type": "code",
   "execution_count": 28,
   "id": "excellent-liabilities",
   "metadata": {},
   "outputs": [],
   "source": [
    "rpoB=hits[0]"
   ]
  },
  {
   "cell_type": "code",
   "execution_count": 29,
   "id": "secret-matter",
   "metadata": {},
   "outputs": [],
   "source": [
    "extracted_sequence=rpoB.extract(gb_obj)"
   ]
  },
  {
   "cell_type": "code",
   "execution_count": 30,
   "id": "assisted-orchestra",
   "metadata": {},
   "outputs": [
    {
     "data": {
      "text/plain": [
       "3552"
      ]
     },
     "execution_count": 30,
     "metadata": {},
     "output_type": "execute_result"
    }
   ],
   "source": [
    "len(extracted_sequence.seq)"
   ]
  },
  {
   "cell_type": "code",
   "execution_count": 31,
   "id": "powered-spanking",
   "metadata": {},
   "outputs": [],
   "source": [
    "extracted_sequence.id='rpoB'"
   ]
  },
  {
   "cell_type": "code",
   "execution_count": 32,
   "id": "english-scanning",
   "metadata": {},
   "outputs": [],
   "source": [
    "extracted_sequence.description='NCTC_8325'"
   ]
  },
  {
   "cell_type": "code",
   "execution_count": 33,
   "id": "cubic-incident",
   "metadata": {},
   "outputs": [],
   "source": [
    "from Bio.SeqUtils import GC"
   ]
  },
  {
   "cell_type": "code",
   "execution_count": 34,
   "id": "activated-windsor",
   "metadata": {},
   "outputs": [],
   "source": [
    "gc_content=GC(extracted_sequence.seq)"
   ]
  },
  {
   "cell_type": "code",
   "execution_count": 35,
   "id": "incredible-finland",
   "metadata": {},
   "outputs": [
    {
     "data": {
      "text/plain": [
       "37.556306306306304"
      ]
     },
     "execution_count": 35,
     "metadata": {},
     "output_type": "execute_result"
    }
   ],
   "source": [
    "gc_content"
   ]
  },
  {
   "cell_type": "code",
   "execution_count": 36,
   "id": "distant-programming",
   "metadata": {},
   "outputs": [
    {
     "data": {
      "text/plain": [
       "37.56"
      ]
     },
     "execution_count": 36,
     "metadata": {},
     "output_type": "execute_result"
    }
   ],
   "source": [
    "round(gc_content,2)"
   ]
  },
  {
   "cell_type": "code",
   "execution_count": 37,
   "id": "abstract-integration",
   "metadata": {},
   "outputs": [],
   "source": [
    "outputfile='/home/kobina/Desktop/rpob.fasta'"
   ]
  },
  {
   "cell_type": "code",
   "execution_count": 38,
   "id": "sought-premiere",
   "metadata": {},
   "outputs": [
    {
     "data": {
      "text/plain": [
       "1"
      ]
     },
     "execution_count": 38,
     "metadata": {},
     "output_type": "execute_result"
    }
   ],
   "source": [
    "SeqIO.write(extracted_sequence,outputfile,'fasta')"
   ]
  },
  {
   "cell_type": "code",
   "execution_count": null,
   "id": "american-bridges",
   "metadata": {},
   "outputs": [],
   "source": []
  },
  {
   "cell_type": "markdown",
   "id": "internal-camcorder",
   "metadata": {},
   "source": [
    "## Extract Multiple Gene Sequences from a GenBank file"
   ]
  },
  {
   "cell_type": "markdown",
   "id": "mechanical-quarterly",
   "metadata": {},
   "source": [
    "* Task : extract gene sequences from an *E. coli* genome\n",
    "* Requirement:\n",
    "    * a text file containing genes of interest\n",
    "    * biopython"
   ]
  },
  {
   "cell_type": "code",
   "execution_count": 1,
   "id": "adjustable-height",
   "metadata": {},
   "outputs": [],
   "source": [
    "genome_file='/home/kobina/Desktop/sakai.gb'\n",
    "gene_list_file='/home/kobina/Desktop/vir_factors.txt'"
   ]
  },
  {
   "cell_type": "code",
   "execution_count": 2,
   "id": "fifth-detective",
   "metadata": {},
   "outputs": [],
   "source": [
    "from Bio import SeqIO"
   ]
  },
  {
   "cell_type": "code",
   "execution_count": 4,
   "id": "brief-brazil",
   "metadata": {},
   "outputs": [],
   "source": [
    "with open(gene_list_file,'r') as input_file:\n",
    "    gene_names=[line.strip('\\n') for line in input_file]"
   ]
  },
  {
   "cell_type": "code",
   "execution_count": 5,
   "id": "optical-heating",
   "metadata": {},
   "outputs": [
    {
     "data": {
      "text/plain": [
       "28"
      ]
     },
     "execution_count": 5,
     "metadata": {},
     "output_type": "execute_result"
    }
   ],
   "source": [
    "len(gene_names)"
   ]
  },
  {
   "cell_type": "code",
   "execution_count": 6,
   "id": "joint-private",
   "metadata": {},
   "outputs": [
    {
     "data": {
      "text/plain": [
       "['eae', 'ecpA', 'ecpB', 'ecpC', 'ecpD']"
      ]
     },
     "execution_count": 6,
     "metadata": {},
     "output_type": "execute_result"
    }
   ],
   "source": [
    "gene_names[0:5]"
   ]
  },
  {
   "cell_type": "code",
   "execution_count": null,
   "id": "advisory-eleven",
   "metadata": {},
   "outputs": [],
   "source": []
  },
  {
   "cell_type": "code",
   "execution_count": 7,
   "id": "hearing-statistics",
   "metadata": {},
   "outputs": [],
   "source": [
    "gb_object=SeqIO.read(genome_file,'gb')"
   ]
  },
  {
   "cell_type": "code",
   "execution_count": 8,
   "id": "massive-sampling",
   "metadata": {},
   "outputs": [],
   "source": [
    "allgenes=[feature for feature in gb_object.features if feature.type =='gene']"
   ]
  },
  {
   "cell_type": "code",
   "execution_count": 9,
   "id": "joint-intake",
   "metadata": {},
   "outputs": [
    {
     "data": {
      "text/plain": [
       "5329"
      ]
     },
     "execution_count": 9,
     "metadata": {},
     "output_type": "execute_result"
    }
   ],
   "source": [
    "len(allgenes)"
   ]
  },
  {
   "cell_type": "code",
   "execution_count": 10,
   "id": "divided-pension",
   "metadata": {},
   "outputs": [],
   "source": [
    "gene_sequences=[]"
   ]
  },
  {
   "cell_type": "code",
   "execution_count": 11,
   "id": "recent-volume",
   "metadata": {},
   "outputs": [
    {
     "name": "stdout",
     "output_type": "stream",
     "text": [
      "gene ecpE has been found\n",
      "gene ecpD has been found\n",
      "gene ecpC has been found\n",
      "gene ecpB has been found\n",
      "gene ecpA has been found\n",
      "gene ecpR has been found\n",
      "gene paa has been found\n",
      "gene lpfB has been found\n",
      "gene espF has been found\n",
      "gene escF has been found\n",
      "gene cesD has been found\n",
      "gene espB has been found\n",
      "gene espD has been found\n",
      "gene espA has been found\n",
      "gene sepL has been found\n",
      "gene escD has been found\n",
      "gene eae has been found\n",
      "gene tir has been found\n",
      "gene escN has been found\n",
      "gene escV has been found\n",
      "gene escJ has been found\n",
      "gene escC has been found\n",
      "gene cesD has been found\n",
      "gene escU has been found\n",
      "gene escT has been found\n",
      "gene escS has been found\n",
      "gene ler has been found\n",
      "gene lpfA has been found\n"
     ]
    }
   ],
   "source": [
    "for gene in allgenes:\n",
    "    if 'gene' in gene.qualifiers.keys():\n",
    "        gene_name=gene.qualifiers['gene'][0]\n",
    "        if gene_name in gene_names:\n",
    "            extract=gene.extract(gb_object)\n",
    "            extract.id=gene_name\n",
    "            extract.description=''\n",
    "            gene_sequences.append(extract)\n",
    "            print('gene %s has been found'%gene_name)"
   ]
  },
  {
   "cell_type": "code",
   "execution_count": 12,
   "id": "alternate-opinion",
   "metadata": {},
   "outputs": [
    {
     "data": {
      "text/plain": [
       "28"
      ]
     },
     "execution_count": 12,
     "metadata": {},
     "output_type": "execute_result"
    }
   ],
   "source": [
    "len(gene_sequences)"
   ]
  },
  {
   "cell_type": "code",
   "execution_count": 13,
   "id": "flexible-chair",
   "metadata": {},
   "outputs": [],
   "source": [
    "outputfile='/home/kobina/Desktop/vir_factors.fasta'"
   ]
  },
  {
   "cell_type": "code",
   "execution_count": 14,
   "id": "curious-jimmy",
   "metadata": {},
   "outputs": [
    {
     "data": {
      "text/plain": [
       "28"
      ]
     },
     "execution_count": 14,
     "metadata": {},
     "output_type": "execute_result"
    }
   ],
   "source": [
    "SeqIO.write(gene_sequences,outputfile,'fasta')"
   ]
  },
  {
   "cell_type": "code",
   "execution_count": null,
   "id": "closed-reserve",
   "metadata": {},
   "outputs": [],
   "source": []
  },
  {
   "cell_type": "code",
   "execution_count": null,
   "id": "intelligent-building",
   "metadata": {},
   "outputs": [],
   "source": []
  },
  {
   "cell_type": "code",
   "execution_count": null,
   "id": "utility-behalf",
   "metadata": {},
   "outputs": [],
   "source": []
  },
  {
   "cell_type": "code",
   "execution_count": null,
   "id": "chubby-complement",
   "metadata": {},
   "outputs": [],
   "source": []
  }
 ],
 "metadata": {
  "kernelspec": {
   "display_name": "Python 3",
   "language": "python",
   "name": "python3"
  },
  "language_info": {
   "codemirror_mode": {
    "name": "ipython",
    "version": 3
   },
   "file_extension": ".py",
   "mimetype": "text/x-python",
   "name": "python",
   "nbconvert_exporter": "python",
   "pygments_lexer": "ipython3",
   "version": "3.6.9"
  }
 },
 "nbformat": 4,
 "nbformat_minor": 5
}
